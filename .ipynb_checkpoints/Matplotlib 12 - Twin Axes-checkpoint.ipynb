{
 "cells": [
  {
   "cell_type": "markdown",
   "metadata": {},
   "source": [
    "# 12 - Twin Axes "
   ]
  },
  {
   "cell_type": "markdown",
   "metadata": {},
   "source": [
    "Twin Axes terjadi ketika terdapat dua plotting yang dilakukan pada axes yang berbeda, namun kedua axes tersebut akan ditempatkan secara bertumpukan bersama."
   ]
  },
  {
   "cell_type": "markdown",
   "metadata": {},
   "source": [
    "## Import Modules"
   ]
  },
  {
   "cell_type": "markdown",
   "metadata": {},
   "source": [
    "Di bawah ini merupakan magic comment yang berfungsi untuk memastikan bahwa setiap output yang dihasilkan oleh matplotlib akan ditampilkan dalam halaman notebook yang sama."
   ]
  },
  {
   "cell_type": "code",
   "execution_count": 1,
   "metadata": {},
   "outputs": [],
   "source": [
    "%matplotlib inline"
   ]
  },
  {
   "cell_type": "markdown",
   "metadata": {},
   "source": [
    "Modules yang digunakan:\n",
    "1. matplotlib\n",
    "2. matplotlib.pyplot (module utama untuk melakukan plotting data)\n",
    "3. numpy "
   ]
  },
  {
   "cell_type": "code",
   "execution_count": 2,
   "metadata": {},
   "outputs": [],
   "source": [
    "import matplotlib\n",
    "import matplotlib.pyplot as plt\n",
    "import numpy as np"
   ]
  },
  {
   "cell_type": "markdown",
   "metadata": {},
   "source": [
    "- Mengecheck versi dari 2 module yang digunakan yaitu matplotlib dan numpy"
   ]
  },
  {
   "cell_type": "code",
   "execution_count": 3,
   "metadata": {},
   "outputs": [
    {
     "name": "stdout",
     "output_type": "stream",
     "text": [
      "3.2.2\n",
      "1.18.5\n"
     ]
    }
   ],
   "source": [
    "print(matplotlib.__version__)\n",
    "print(np.__version__)"
   ]
  },
  {
   "cell_type": "markdown",
   "metadata": {},
   "source": [
    "## Kasus Twin Axes 1"
   ]
  },
  {
   "cell_type": "markdown",
   "metadata": {},
   "source": [
    "- Membuat sebuah data set yang ditampung oleh variabel *x* dengan memanggil `np.linspace()` yang disertai oleh 3 parameter\n",
    "    - parameter pertama = 1, untuk menentukan nilai terkecil\n",
    "    - parameter kedua = 10, untuk menentukan nilai terbesar\n",
    "    - parameter ketiga = 25, untuk menentukan jumlah data point."
   ]
  },
  {
   "cell_type": "code",
   "execution_count": 4,
   "metadata": {},
   "outputs": [
    {
     "data": {
      "text/plain": [
       "array([ 1.   ,  1.375,  1.75 ,  2.125,  2.5  ,  2.875,  3.25 ,  3.625,\n",
       "        4.   ,  4.375,  4.75 ,  5.125,  5.5  ,  5.875,  6.25 ,  6.625,\n",
       "        7.   ,  7.375,  7.75 ,  8.125,  8.5  ,  8.875,  9.25 ,  9.625,\n",
       "       10.   ])"
      ]
     },
     "execution_count": 4,
     "metadata": {},
     "output_type": "execute_result"
    }
   ],
   "source": [
    "x = np.linspace(1, 10, 25)\n",
    "x"
   ]
  },
  {
   "cell_type": "markdown",
   "metadata": {},
   "source": [
    "Pada plotting ini, terdapat 1 sumbu-x dan 2 sumbu-y.\n",
    "- Sumbu y di sebelah kiri akan berkorelasi dengan nilai eksponensial\n",
    "- Sumbu y di sebelah kiri akan berkorelasi dengan nilai logaritma\n",
    "\n",
    "*Plotting yang digunakan menggunakan OO style yang ditunjukkan dengan pemanggilan plt.subplots()*\n",
    "\n",
    "- Pemanggilan `plt.subplots()` akan mengembalikan dua buah objek yang akan ditampung oleh dua variabel yaitu `fig` untuk menampung figure dan `ax1` untuk menampung axes.\n",
    "\n",
    "#### Melakukan plotting untuk fungsi eksponensial\n",
    "- Memanggil `ax1.plot()` yang disertai oleh 4 variabel.\n",
    "    - `x`, untuk dijadikan nilai pada sumbu-x\n",
    "    - `np.exp(x)` yaitu hasil eksponesial dari nilai x, untuk dijadikan nilai pada sumbu-y\n",
    "    - `bs-`, b=blue, s=square, dan - untuk mengindikasikan adanya garis.\n",
    "    - `label = 'exp' `\n",
    "- Menentukan x label dan y label dengan memanggil\n",
    "    - `ax1.set_xlabel('Sumbu X')`\n",
    "    - `ax1.set_ylabel('exp')`\n",
    "    \n",
    "#### Melakukan plotting untuk fungsi logaritma    \n",
    "- Memanggil fungsi `twinx()` untuk menghasilkan axes baru yang akan ditempatkan di atas axes yang pertama yang akan ditampung oleh variabel `ax2`.\n",
    "- Memanggil `ax2.plot()` yang disertai oleh 4 variabel.\n",
    "    - `x`, untuk dijadikan nilai pada sumbu-x\n",
    "    - `np.log(x)` yaitu hasil logaritma dari nilai x, untuk dijadikan nilai pada sumbu-y\n",
    "    - `ro-`, r=red, o merepresentasikan markernya berupa bulatan, dan - untuk mengindikasikan adanya garis.\n",
    "    - `label = 'log' `\n",
    "- Menentukan x label dan y label dengan memanggil\n",
    "    - `ax1.set_xlabel('Sumbu X')`\n",
    "    - `ax1.set_ylabel('exp')`"
   ]
  },
  {
   "cell_type": "code",
   "execution_count": 5,
   "metadata": {},
   "outputs": [
    {
     "data": {
      "image/png": "[encoded data removed]",
      "text/plain": [
       "<Figure size 432x288 with 2 Axes>"
      ]
     },
     "metadata": {
      "needs_background": "light"
     },
     "output_type": "display_data"
    }
   ],
   "source": [
    "fig, ax1 = plt.subplots()\n",
    "\n",
    "ax1.plot(x, np.exp(x), 'bs-', label='exp')\n",
    "ax1.set_xlabel('Sumbu X')\n",
    "ax1.set_ylabel('exp')\n",
    "\n",
    "ax2 = ax1.twinx()\n",
    "ax2.plot(x, np.log(x), 'ro-', label='log')\n",
    "ax2.set_ylabel('log')\n",
    "\n",
    "fig.suptitle('Contoh Twin Axes')\n",
    "fig.legend(loc='lower left')\n",
    "\n",
    "plt.show()"
   ]
  },
  {
   "cell_type": "markdown",
   "metadata": {},
   "source": [
    "## Kasus Twin Axes 2"
   ]
  },
  {
   "cell_type": "markdown",
   "metadata": {},
   "source": [
    "- Membuat sebuah data set yang ditampung oleh variabel *x* dengan memanggil `np.random.randint()` untuk menghasilkan kumpulan bilangan integer secara random yang disertai oleh 3 parameter\n",
    "    - parameter pertama = 16, untuk menentukan nilai terkecil\n",
    "    - parameter kedua = 40, untuk menentukan nilai terbesar\n",
    "    - parameter ketiga size = 30, untuk menentukan jumlah data point."
   ]
  },
  {
   "cell_type": "code",
   "execution_count": 6,
   "metadata": {},
   "outputs": [
    {
     "data": {
      "text/plain": [
       "array([23, 34, 29, 20, 18, 23, 37, 37, 27, 26, 19, 27, 29, 33, 17, 32, 25,\n",
       "       25, 21, 33, 23, 18, 16, 24, 39, 20, 37, 16, 35, 30])"
      ]
     },
     "execution_count": 6,
     "metadata": {},
     "output_type": "execute_result"
    }
   ],
   "source": [
    "x = np.random.randint(16, 40, size=30)\n",
    "x"
   ]
  },
  {
   "cell_type": "markdown",
   "metadata": {},
   "source": [
    "- Membuat fungsi `C2F` yang akan menerima sebuah nilai dari derajat celcius yang nantinya akan dikonversi ke fahrenheit = `(celsius * 1.8) + 32`\n",
    "- Membuat fungsi `konversi_sumbu(ax1)` yang akan mengkonversi sumbu-y pertama ke sumbu-y kedua."
   ]
  },
  {
   "cell_type": "code",
   "execution_count": 7,
   "metadata": {},
   "outputs": [
    {
     "data": {
      "image/png": "[encoded data removed]",
      "text/plain": [
       "<Figure size 432x288 with 2 Axes>"
      ]
     },
     "metadata": {
      "needs_background": "light"
     },
     "output_type": "display_data"
    }
   ],
   "source": [
    "def C2F(celsius=0):\n",
    "    return (celsius * 1.8) + 32\n",
    "\n",
    "def konversi_sumbu(ax1): \n",
    "    y1, y2 = ax1.get_ylim() \n",
    "    ax2.set_ylim(C2F(y1), C2F(y2)) \n",
    "    ax2.figure.canvas.draw() \n",
    "\n",
    "fig, ax1 = plt.subplots() \n",
    "ax2 = ax1.twinx() \n",
    "\n",
    "ax1.callbacks.connect('ylim_changed', konversi_sumbu) \n",
    "ax1.plot(x) \n",
    "\n",
    "ax1.set_xlabel('Hari')\n",
    "ax1.set_ylabel('Celsius') \n",
    "ax2.set_ylabel('Fahrenheit') \n",
    "\n",
    "fig.suptitle('Temperatur Udara') \n",
    "plt.show()"
   ]
  }
 ],
 "metadata": {
  "kernelspec": {
   "display_name": "Python 3",
   "language": "python",
   "name": "python3"
  },
  "language_info": {
   "codemirror_mode": {
    "name": "ipython",
    "version": 3
   },
   "file_extension": ".py",
   "mimetype": "text/x-python",
   "name": "python",
   "nbconvert_exporter": "python",
   "pygments_lexer": "ipython3",
   "version": "3.8.3"
  }
 },
 "nbformat": 4,
 "nbformat_minor": 4
}
