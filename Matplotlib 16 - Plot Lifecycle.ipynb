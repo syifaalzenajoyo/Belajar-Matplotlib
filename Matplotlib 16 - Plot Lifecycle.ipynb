{
 "cells": [
  {
   "cell_type": "markdown",
   "metadata": {},
   "source": [
    "# 16 - Plot Lifecycle"
   ]
  },
  {
   "cell_type": "markdown",
   "metadata": {},
   "source": [
    "## Import Modules"
   ]
  },
  {
   "cell_type": "markdown",
   "metadata": {},
   "source": [
    "Di bawah ini merupakan magic comment yang berfungsi untuk memastikan bahwa setiap output yang dihasilkan oleh matplotlib akan ditampilkan dalam halaman notebook yang sama."
   ]
  },
  {
   "cell_type": "code",
   "execution_count": 1,
   "metadata": {},
   "outputs": [],
   "source": [
    "%matplotlib inline"
   ]
  },
  {
   "cell_type": "markdown",
   "metadata": {},
   "source": [
    "Modules yang digunakan:\n",
    "1. matplotlib\n",
    "2. matplotlib.pyplot (module utama untuk melakukan plotting data)\n",
    "3. numpy "
   ]
  },
  {
   "cell_type": "code",
   "execution_count": 2,
   "metadata": {},
   "outputs": [],
   "source": [
    "import matplotlib\n",
    "import matplotlib.pyplot as plt\n",
    "import numpy as np"
   ]
  },
  {
   "cell_type": "markdown",
   "metadata": {},
   "source": [
    "- Mengecheck versi dari 2 module yang digunakan yaitu matplotlib dan numpy"
   ]
  },
  {
   "cell_type": "code",
   "execution_count": 3,
   "metadata": {},
   "outputs": [
    {
     "name": "stdout",
     "output_type": "stream",
     "text": [
      "3.2.2\n",
      "1.18.5\n"
     ]
    }
   ],
   "source": [
    "print(matplotlib.__version__)\n",
    "print(np.__version__)"
   ]
  },
  {
   "cell_type": "markdown",
   "metadata": {},
   "source": [
    "## Membuat Sample Dataset"
   ]
  },
  {
   "cell_type": "markdown",
   "metadata": {},
   "source": [
    "Sample dataset yang akan digunakan kali ini dibentuk dari suatu dictionary yang terdiri dari keys and values seperti berikut."
   ]
  },
  {
   "cell_type": "code",
   "execution_count": 4,
   "metadata": {},
   "outputs": [
    {
     "data": {
      "text/plain": [
       "{'Item A': 109438,\n",
       " 'Item B': 103569,\n",
       " 'Item C': 112214,\n",
       " 'Item D': 112591,\n",
       " 'Item E': 100934,\n",
       " 'Item F': 103660,\n",
       " 'Item G': 137351,\n",
       " 'Item H': 123381,\n",
       " 'Item I': 135841,\n",
       " 'Item J': 104437}"
      ]
     },
     "execution_count": 4,
     "metadata": {},
     "output_type": "execute_result"
    }
   ],
   "source": [
    "data = {'Item A': 109438,\n",
    "        'Item B': 103569,\n",
    "        'Item C': 112214,\n",
    "        'Item D': 112591,\n",
    "        'Item E': 100934,\n",
    "        'Item F': 103660,\n",
    "        'Item G': 137351,\n",
    "        'Item H': 123381,\n",
    "        'Item I': 135841,\n",
    "        'Item J': 104437}\n",
    "\n",
    "data"
   ]
  },
  {
   "cell_type": "markdown",
   "metadata": {},
   "source": [
    "- Mengekstrak keys dari suatu dictionary dengan memanggil `keys()`\n",
    "- Menampung keys tersebut ke dalam suatu tuple dengan memanggil `tuple(data.keys())`"
   ]
  },
  {
   "cell_type": "code",
   "execution_count": 8,
   "metadata": {},
   "outputs": [
    {
     "data": {
      "text/plain": [
       "('Item A',\n",
       " 'Item B',\n",
       " 'Item C',\n",
       " 'Item D',\n",
       " 'Item E',\n",
       " 'Item F',\n",
       " 'Item G',\n",
       " 'Item H',\n",
       " 'Item I',\n",
       " 'Item J')"
      ]
     },
     "execution_count": 8,
     "metadata": {},
     "output_type": "execute_result"
    }
   ],
   "source": [
    "items = tuple(data.keys())\n",
    "items"
   ]
  },
  {
   "cell_type": "markdown",
   "metadata": {},
   "source": [
    "- Mengekstrak values dari suatu dictionary dengan memanggil `values()`\n",
    "- Menampung values tersebut ke dalam suatu tuple dengan memanggil `tuple(data.values())`"
   ]
  },
  {
   "cell_type": "code",
   "execution_count": 9,
   "metadata": {},
   "outputs": [
    {
     "data": {
      "text/plain": [
       "(109438,\n",
       " 103569,\n",
       " 112214,\n",
       " 112591,\n",
       " 100934,\n",
       " 103660,\n",
       " 137351,\n",
       " 123381,\n",
       " 135841,\n",
       " 104437)"
      ]
     },
     "execution_count": 9,
     "metadata": {},
     "output_type": "execute_result"
    }
   ],
   "source": [
    "count = tuple(data.values())\n",
    "count"
   ]
  },
  {
   "cell_type": "markdown",
   "metadata": {},
   "source": [
    "## Simple Plot"
   ]
  },
  {
   "cell_type": "markdown",
   "metadata": {},
   "source": [
    "#### Menggunakan pendekatan OO Style\n",
    "- Memanggil fungsi `plt.subplots()` untuk menghasilkan dua buah object yaitu figure yang akan ditampung oleh `fig` dan axes yang akan ditampung oleh `ax`.\n",
    "- Memanggil fungsi `ax.barh()` untuk menghasilkan horizontal bar plot dimana yang akan diplotting adalah `items` yang menampung keys dan `count` yang menampung values dari dictionary yang telah dibuat."
   ]
  },
  {
   "cell_type": "code",
   "execution_count": 10,
   "metadata": {},
   "outputs": [
    {
     "data": {
      "image/png": "[encoded data removed]",
      "text/plain": [
       "<Figure size 432x288 with 1 Axes>"
      ]
     },
     "metadata": {
      "needs_background": "light"
     },
     "output_type": "display_data"
    }
   ],
   "source": [
    "fig, ax = plt.subplots()\n",
    "\n",
    "ax.barh(items, count)\n",
    "\n",
    "plt.show()"
   ]
  },
  {
   "cell_type": "markdown",
   "metadata": {},
   "source": [
    "## Pengaturan Style"
   ]
  },
  {
   "cell_type": "markdown",
   "metadata": {},
   "source": [
    "- Untuk menampilkan daftar style yang disediakan dalam matplotlib, kita dapat memanggil `plt.style.available`"
   ]
  },
  {
   "cell_type": "code",
   "execution_count": 11,
   "metadata": {},
   "outputs": [
    {
     "data": {
      "text/plain": [
       "['Solarize_Light2',\n",
       " '_classic_test_patch',\n",
       " 'bmh',\n",
       " 'classic',\n",
       " 'dark_background',\n",
       " 'fast',\n",
       " 'fivethirtyeight',\n",
       " 'ggplot',\n",
       " 'grayscale',\n",
       " 'seaborn',\n",
       " 'seaborn-bright',\n",
       " 'seaborn-colorblind',\n",
       " 'seaborn-dark',\n",
       " 'seaborn-dark-palette',\n",
       " 'seaborn-darkgrid',\n",
       " 'seaborn-deep',\n",
       " 'seaborn-muted',\n",
       " 'seaborn-notebook',\n",
       " 'seaborn-paper',\n",
       " 'seaborn-pastel',\n",
       " 'seaborn-poster',\n",
       " 'seaborn-talk',\n",
       " 'seaborn-ticks',\n",
       " 'seaborn-white',\n",
       " 'seaborn-whitegrid',\n",
       " 'tableau-colorblind10']"
      ]
     },
     "execution_count": 11,
     "metadata": {},
     "output_type": "execute_result"
    }
   ],
   "source": [
    "plt.style.available"
   ]
  },
  {
   "cell_type": "markdown",
   "metadata": {},
   "source": [
    "- Untuk menggunakan style tertentu kita dapat memanggil `plt.style.use()` yang diikuti oleh dengan nama predefined stylenya."
   ]
  },
  {
   "cell_type": "code",
   "execution_count": 15,
   "metadata": {},
   "outputs": [
    {
     "data": {
      "image/png": "[encoded data removed]",
      "text/plain": [
       "<Figure size 432x288 with 1 Axes>"
      ]
     },
     "metadata": {
      "needs_background": "light"
     },
     "output_type": "display_data"
    }
   ],
   "source": [
    "plt.style.use('bmh')\n",
    "\n",
    "fig, ax = plt.subplots()\n",
    "ax.barh(items, count)\n",
    "plt.show()"
   ]
  },
  {
   "cell_type": "markdown",
   "metadata": {},
   "source": [
    "## Pengaturan Tick Label"
   ]
  },
  {
   "cell_type": "markdown",
   "metadata": {},
   "source": [
    "- Memanggil `ax.get_xticklabels()` untuk mendapatkan tick labels pada sumbu-x.\n",
    "- Memanggil `plt.setp()` untuk melakukan set properties yang diikuti oleh beberapa parameter yaitu.\n",
    "    - Parameter pertama berisikan object yang akan diatur propertiesnya, yaitu `labels`.\n",
    "    - Paramater kedua yaitu `rotation=45` untuk melakukan rotasi labels sebanyak 45 derajat berlawanan arah dengan arah jarum jam.\n",
    "    - Paramater ketiga yaitu `horizontalalignment='right'` untuk melakukan perataan kanan."
   ]
  },
  {
   "cell_type": "code",
   "execution_count": 17,
   "metadata": {},
   "outputs": [
    {
     "data": {
      "image/png": "[encoded data removed]",
      "text/plain": [
       "<Figure size 432x288 with 1 Axes>"
      ]
     },
     "metadata": {
      "needs_background": "light"
     },
     "output_type": "display_data"
    }
   ],
   "source": [
    "fig, ax = plt.subplots()\n",
    "ax.barh(items, count)\n",
    "\n",
    "labels = ax.get_xticklabels()\n",
    "\n",
    "plt.setp(labels,\n",
    "         rotation=45,\n",
    "         horizontalalignment='right')\n",
    "\n",
    "plt.show()"
   ]
  },
  {
   "cell_type": "markdown",
   "metadata": {},
   "source": [
    "## Pengaturan Format pada Ticker"
   ]
  },
  {
   "cell_type": "markdown",
   "metadata": {},
   "source": [
    "- import function `FuncFormatter`"
   ]
  },
  {
   "cell_type": "code",
   "execution_count": 21,
   "metadata": {},
   "outputs": [],
   "source": [
    "from matplotlib.ticker import FuncFormatter"
   ]
  },
  {
   "cell_type": "markdown",
   "metadata": {},
   "source": [
    "- Membentuk fungsi `ribuan` untuk menkonversi ribuan menjadi huruf K. Misalnya 1000 menjadi 1K, 10000 menjadi 10K, dll.\n",
    "- Fungsi `ribuan` akan menerima dua buah parameter yaitu `x` yang merupakan nilai yang akan dikonversi dan `pos`yang terkait dengan posisi dari tickernya."
   ]
  },
  {
   "cell_type": "code",
   "execution_count": 22,
   "metadata": {},
   "outputs": [],
   "source": [
    "def ribuan(x, pos):\n",
    "    return f'{int(x/1000)}K'"
   ]
  },
  {
   "cell_type": "markdown",
   "metadata": {},
   "source": [
    "- Memanggil fungsi `plt.subplots()` untuk menghasilkan dua buah object yaitu figure yang akan ditampung oleh `fig` dan axes yang akan ditampung oleh `ax`.\n",
    "- Memanggil fungsi `ax.barh()` untuk menghasilkan horizontal bar plot dimana yang akan diplotting adalah `items` yang menampung keys dan `count` yang menampung values dari dictionary yang telah dibuat.\n",
    "- Memanggil fungsi `FuncFormatter(ribuan)` untuk membentuk object function formatter dengan fungsi yang akan digunakan yaitu ribuan.\n",
    "- Memanggil `ax.xaxis.set_major_formatter(formatter)` untuk menerapkan `formatter` pada sumbu-x."
   ]
  },
  {
   "cell_type": "code",
   "execution_count": 23,
   "metadata": {},
   "outputs": [
    {
     "data": {
      "image/png": "[encoded data removed]",
      "text/plain": [
       "<Figure size 432x288 with 1 Axes>"
      ]
     },
     "metadata": {
      "needs_background": "light"
     },
     "output_type": "display_data"
    }
   ],
   "source": [
    "fig, ax = plt.subplots()\n",
    "ax.barh(items, count)\n",
    "\n",
    "formatter = FuncFormatter(ribuan)\n",
    "ax.xaxis.set_major_formatter(formatter)\n",
    "\n",
    "ax.set(title='Contoh Plot', \n",
    "       xlabel='Jumlah', \n",
    "       ylabel='Items')\n",
    "\n",
    "plt.show()"
   ]
  },
  {
   "cell_type": "markdown",
   "metadata": {},
   "source": [
    "## Pengaturan Label pada Sumbu (Axis) dan Judul (Title)"
   ]
  },
  {
   "cell_type": "markdown",
   "metadata": {},
   "source": [
    "- Memanggil fungsi `ax.set()` untuk melakukan pengaturan title dan label secara sekaligus dengan diikuti oleh parameter `title='Contoh Plot'`, `xlabel='Jumlah'`, dan `ylabel='Items'`."
   ]
  },
  {
   "cell_type": "code",
   "execution_count": 26,
   "metadata": {},
   "outputs": [
    {
     "data": {
      "image/png": "[encoded data removed]",
      "text/plain": [
       "<Figure size 432x288 with 1 Axes>"
      ]
     },
     "metadata": {
      "needs_background": "light"
     },
     "output_type": "display_data"
    }
   ],
   "source": [
    "fig, ax = plt.subplots()\n",
    "ax.barh(items, count)\n",
    "\n",
    "ax.set(title='Contoh Plot', \n",
    "       xlabel='Jumlah', \n",
    "       ylabel='Items')\n",
    "\n",
    "plt.show()"
   ]
  },
  {
   "cell_type": "markdown",
   "metadata": {},
   "source": [
    "## Penambahan Garis (Vertical/Horisontal Line) pada Plot"
   ]
  },
  {
   "cell_type": "markdown",
   "metadata": {},
   "source": [
    "- Memanggil `ax.axvline()` untuk menampilkan axes vertical line yang diikuti oleh parameter `np.mean(count)`untuk menentukan posisi vertical linenya berada di nilai mean countnya, `ls='--'` untuk menentukan line stylenya berupa garis putus-putus, dan `color='r'` untuk menentukan warna dari linenya yaitu merah.\n",
    "\n",
    "#### Note:\n",
    "Untuk menghasilkan line style berupa garis lurus, kita dapat melakukannya dengan menentukan `ls='-'`"
   ]
  },
  {
   "cell_type": "code",
   "execution_count": 29,
   "metadata": {},
   "outputs": [
    {
     "data": {
      "image/png": "[encoded data removed]",
      "text/plain": [
       "<Figure size 432x288 with 1 Axes>"
      ]
     },
     "metadata": {
      "needs_background": "light"
     },
     "output_type": "display_data"
    }
   ],
   "source": [
    "fig, ax = plt.subplots()\n",
    "ax.barh(items, count)\n",
    "\n",
    "ax.axvline(np.mean(count), \n",
    "           ls='--', \n",
    "           color='r')\n",
    "\n",
    "ax.set(title='Contoh Plot', \n",
    "       xlabel='Jumlah', \n",
    "       ylabel='Items')\n",
    "\n",
    "plt.show()"
   ]
  },
  {
   "cell_type": "markdown",
   "metadata": {},
   "source": [
    "## Menyimpan Hasil Plot ke Dalam Suatu File"
   ]
  },
  {
   "cell_type": "markdown",
   "metadata": {},
   "source": [
    "- Menampilkan format file yang didukung dalam matplotlib."
   ]
  },
  {
   "cell_type": "code",
   "execution_count": 30,
   "metadata": {},
   "outputs": [
    {
     "data": {
      "text/plain": [
       "{'ps': 'Postscript',\n",
       " 'eps': 'Encapsulated Postscript',\n",
       " 'pdf': 'Portable Document Format',\n",
       " 'pgf': 'PGF code for LaTeX',\n",
       " 'png': 'Portable Network Graphics',\n",
       " 'raw': 'Raw RGBA bitmap',\n",
       " 'rgba': 'Raw RGBA bitmap',\n",
       " 'svg': 'Scalable Vector Graphics',\n",
       " 'svgz': 'Scalable Vector Graphics',\n",
       " 'jpg': 'Joint Photographic Experts Group',\n",
       " 'jpeg': 'Joint Photographic Experts Group',\n",
       " 'tif': 'Tagged Image File Format',\n",
       " 'tiff': 'Tagged Image File Format'}"
      ]
     },
     "execution_count": 30,
     "metadata": {},
     "output_type": "execute_result"
    }
   ],
   "source": [
    "fig.canvas.get_supported_filetypes()"
   ]
  },
  {
   "cell_type": "markdown",
   "metadata": {},
   "source": [
    "- Memanggil `fig.savefig()` untuk menyimpan hasil plotting dengan diikuti oleh parameter `'contoh plot.png'` sebagai nama file, `transparent=True`untuk mengatur transparansinya, dan `dpi=80` untuk mengatur resolusi."
   ]
  },
  {
   "cell_type": "code",
   "execution_count": 31,
   "metadata": {},
   "outputs": [
    {
     "data": {
      "image/png": "[encoded data removed]",
      "text/plain": [
       "<Figure size 432x288 with 1 Axes>"
      ]
     },
     "metadata": {
      "needs_background": "light"
     },
     "output_type": "display_data"
    }
   ],
   "source": [
    "fig, ax = plt.subplots()\n",
    "ax.barh(items, count)\n",
    "\n",
    "ax.axvline(np.mean(count),\n",
    "           ls='--',\n",
    "           color='r')\n",
    "\n",
    "ax.set(title='Contoh Plot',\n",
    "       xlabel='Jumlah',\n",
    "       ylabel='Items')\n",
    "\n",
    "fig.savefig('contoh plot.png',\n",
    "            transparent=True,\n",
    "            dpi=80)"
   ]
  }
 ],
 "metadata": {
  "kernelspec": {
   "display_name": "Python 3",
   "language": "python",
   "name": "python3"
  },
  "language_info": {
   "codemirror_mode": {
    "name": "ipython",
    "version": 3
   },
   "file_extension": ".py",
   "mimetype": "text/x-python",
   "name": "python",
   "nbconvert_exporter": "python",
   "pygments_lexer": "ipython3",
   "version": "3.8.3"
  }
 },
 "nbformat": 4,
 "nbformat_minor": 4
}
