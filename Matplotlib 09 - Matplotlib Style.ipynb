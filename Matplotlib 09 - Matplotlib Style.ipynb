{
 "cells": [
  {
   "cell_type": "markdown",
   "metadata": {},
   "source": [
    "# 09 - Matplotlib Style "
   ]
  },
  {
   "cell_type": "markdown",
   "metadata": {},
   "source": [
    "## Import Modules"
   ]
  },
  {
   "cell_type": "markdown",
   "metadata": {},
   "source": [
    "Di bawah ini merupakan magic comment yang berfungsi untuk memastikan setiap output yang dihasilkan oleh matplotlib akan ditampilkan dalam halaman notebook yang sama."
   ]
  },
  {
   "cell_type": "code",
   "execution_count": 4,
   "metadata": {},
   "outputs": [],
   "source": [
    "%matplotlib inline"
   ]
  },
  {
   "cell_type": "markdown",
   "metadata": {},
   "source": [
    "Modules yang digunakan:\n",
    "1. matplotlib\n",
    "2. matplotlib.pyplot (module utama untuk melakukan plotting data)\n",
    "3. style from matplotlib\n",
    "4. numpy "
   ]
  },
  {
   "cell_type": "code",
   "execution_count": 5,
   "metadata": {},
   "outputs": [],
   "source": [
    "import matplotlib\n",
    "import matplotlib.pyplot as plt\n",
    "from matplotlib import style\n",
    "import numpy as np"
   ]
  },
  {
   "cell_type": "markdown",
   "metadata": {},
   "source": [
    "- Mengecheck versi dari 2 module yang digunakan yaitu matplotlib dan numpy"
   ]
  },
  {
   "cell_type": "code",
   "execution_count": 6,
   "metadata": {},
   "outputs": [
    {
     "name": "stdout",
     "output_type": "stream",
     "text": [
      "3.2.2\n",
      "1.18.5\n"
     ]
    }
   ],
   "source": [
    "print(matplotlib.__version__)\n",
    "print(np.__version__)"
   ]
  },
  {
   "cell_type": "markdown",
   "metadata": {},
   "source": [
    "## Fungsi Plotting"
   ]
  },
  {
   "cell_type": "markdown",
   "metadata": {},
   "source": [
    "- Menyiapkan sebuah fungsi, *gambar_barplot()*, untuk menampilkan suatu bar plot.\n",
    "\n",
    "- Mempersiapkan dua buah data set \n",
    "    - *data* untuk menampung data yang berisikan sekumpulan angka (25, 45, 55, 125, 225) yang disatukan menjadi sebuah list.\n",
    "    - *kategori* untuk menampung data yang berisikan sekumpulan karakter ('A', 'B', 'C', 'D', 'E') dan disatukan menjadi sebuah list.\n",
    "    \n",
    "- Membuat variabel x untuk menampung nilai dari pemanggilan *np.arange(len(kategori))* yang akan menghasilkan array yang memiliki deret bilangan yang ditentukan oleh len dari kategori.\n",
    "\n",
    "- Menentukan nilai width\n",
    "\n",
    "- Melakukan plotting dengan memanggil *plt.bar()* yang diikuti oleh 4 paramater.\n",
    "    1. (index dari kategori - width)/2 untuk menjadi acuan\n",
    "    2. data set\n",
    "    3. width\n",
    "    4. label\n",
    "\n",
    "\n",
    "- Memanggil *plt.xticks* untuk melakukan pengaturan sumbu x agar mengganti index dari kategori menjadi nilai dari kategori tersebut yaitu 'A', 'B', 'C', 'D', dan 'E'.\n",
    "\n",
    "- Memanggil *plt.grid()* untuk menampilkan grid pada bar plot yang diikuti oleh 4 parameter yaitu \n",
    "    1. *linestyle* untuk menentukan garisnya, \n",
    "    2. *linewidth* untuk menentukan ketebalan gridnya, \n",
    "    3. *axis* untuk menentukan garis yang dihasilkan akan berasosi dengan nilai *x*, *y*, atau *both* . Nilai default dari *axis* adalah *both*. \n",
    "    4. *alpha* untuk menentukan tranparansi garis.\n",
    "\n",
    "\n",
    "- Memanggil *xlabel()* dan *ylabel()* untuk menentukan label pada sb.x dan sb.y serta memanggil *title()* untuk menentukan judul.\n",
    "\n",
    "- Memanggil *plt.legend* untuk menampilkan legend"
   ]
  },
  {
   "cell_type": "code",
   "execution_count": 9,
   "metadata": {},
   "outputs": [],
   "source": [
    "def gambar_barplot():\n",
    "    data1 = [25,85, 75, 40, 60]\n",
    "    data2 = [40, 35, 20, 55, 10]\n",
    "    kategori = ['A', 'B', 'C', 'D', 'E']\n",
    "\n",
    "    x = np.arange(len(kategori))\n",
    "    \n",
    "    width = 0.35\n",
    "\n",
    "    plt.bar(x-width/2, data1, width, label='Data 1')\n",
    "    plt.bar(x+width/2, data2, width, label='Data 2')\n",
    "\n",
    "    plt.xticks(x, kategori)\n",
    "\n",
    "    plt.grid(linestyle='--', \n",
    "             linewidth=1, \n",
    "             axis='y',\n",
    "             alpha=0.75)\n",
    "\n",
    "    plt.xlabel('Kategori')\n",
    "    plt.ylabel('Jumlah')\n",
    "    plt.title('Contoh Grouped Bar Plot')\n",
    "\n",
    "    plt.legend()\n",
    "    plt.show()"
   ]
  },
  {
   "cell_type": "markdown",
   "metadata": {},
   "source": [
    "- Memanggil fungsi *gambar_barplot()* untuk menampilkan barplot"
   ]
  },
  {
   "cell_type": "code",
   "execution_count": 8,
   "metadata": {},
   "outputs": [
    {
     "data": {
      "image/png": "[encoded data removed]",
      "text/plain": [
       "<Figure size 432x288 with 1 Axes>"
      ]
     },
     "metadata": {
      "needs_background": "light"
     },
     "output_type": "display_data"
    }
   ],
   "source": [
    "gambar_barplot()"
   ]
  },
  {
   "cell_type": "markdown",
   "metadata": {},
   "source": [
    "## Matplotlib Style"
   ]
  },
  {
   "cell_type": "markdown",
   "metadata": {},
   "source": [
    "- Melihat daftar style dari matplotlib"
   ]
  },
  {
   "cell_type": "code",
   "execution_count": 10,
   "metadata": {},
   "outputs": [
    {
     "data": {
      "text/plain": [
       "['Solarize_Light2',\n",
       " '_classic_test_patch',\n",
       " 'bmh',\n",
       " 'classic',\n",
       " 'dark_background',\n",
       " 'fast',\n",
       " 'fivethirtyeight',\n",
       " 'ggplot',\n",
       " 'grayscale',\n",
       " 'seaborn',\n",
       " 'seaborn-bright',\n",
       " 'seaborn-colorblind',\n",
       " 'seaborn-dark',\n",
       " 'seaborn-dark-palette',\n",
       " 'seaborn-darkgrid',\n",
       " 'seaborn-deep',\n",
       " 'seaborn-muted',\n",
       " 'seaborn-notebook',\n",
       " 'seaborn-paper',\n",
       " 'seaborn-pastel',\n",
       " 'seaborn-poster',\n",
       " 'seaborn-talk',\n",
       " 'seaborn-ticks',\n",
       " 'seaborn-white',\n",
       " 'seaborn-whitegrid',\n",
       " 'tableau-colorblind10']"
      ]
     },
     "execution_count": 10,
     "metadata": {},
     "output_type": "execute_result"
    }
   ],
   "source": [
    "plt.style.available"
   ]
  },
  {
   "cell_type": "markdown",
   "metadata": {},
   "source": [
    "- Mengubah style matplotlib menjadi style yang diinginkan, misalnya *ggplot* style"
   ]
  },
  {
   "cell_type": "code",
   "execution_count": 17,
   "metadata": {},
   "outputs": [
    {
     "data": {
      "image/png": "[encoded data removed]",
      "text/plain": [
       "<Figure size 576x396 with 1 Axes>"
      ]
     },
     "metadata": {},
     "output_type": "display_data"
    }
   ],
   "source": [
    "style.use('ggplot')\n",
    "gambar_barplot()"
   ]
  },
  {
   "cell_type": "markdown",
   "metadata": {},
   "source": [
    "- Mengubah style matplotlib menjadi style yang diinginkan, misalnya *seaborn* style"
   ]
  },
  {
   "cell_type": "code",
   "execution_count": 18,
   "metadata": {},
   "outputs": [
    {
     "data": {
      "image/png": "[encoded data removed]",
      "text/plain": [
       "<Figure size 576x396 with 1 Axes>"
      ]
     },
     "metadata": {},
     "output_type": "display_data"
    }
   ],
   "source": [
    "style.use('seaborn')\n",
    "gambar_barplot()"
   ]
  },
  {
   "cell_type": "markdown",
   "metadata": {},
   "source": [
    "- Mengubah style matplotlib menjadi style yang diinginkan, misalnya *grayscale* style"
   ]
  },
  {
   "cell_type": "code",
   "execution_count": 19,
   "metadata": {},
   "outputs": [
    {
     "data": {
      "image/png": "[encoded data removed]",
      "text/plain": [
       "<Figure size 576x396 with 1 Axes>"
      ]
     },
     "metadata": {},
     "output_type": "display_data"
    }
   ],
   "source": [
    "style.use('grayscale')\n",
    "gambar_barplot()"
   ]
  }
 ],
 "metadata": {
  "kernelspec": {
   "display_name": "Python 3",
   "language": "python",
   "name": "python3"
  },
  "language_info": {
   "codemirror_mode": {
    "name": "ipython",
    "version": 3
   },
   "file_extension": ".py",
   "mimetype": "text/x-python",
   "name": "python",
   "nbconvert_exporter": "python",
   "pygments_lexer": "ipython3",
   "version": "3.8.3"
  }
 },
 "nbformat": 4,
 "nbformat_minor": 4
}
