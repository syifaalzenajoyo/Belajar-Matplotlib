{
 "cells": [
  {
   "cell_type": "markdown",
   "metadata": {},
   "source": [
    "# 04 - Membuat Histogram"
   ]
  },
  {
   "cell_type": "markdown",
   "metadata": {},
   "source": [
    "## Import Modules"
   ]
  },
  {
   "cell_type": "markdown",
   "metadata": {},
   "source": [
    "Di bawah ini merupakan magic comment yang berfungsi untuk memastikan setiap output yang dihasilkan oleh matplotlib akan ditampilkan dalam halaman notebook yang sama."
   ]
  },
  {
   "cell_type": "code",
   "execution_count": 2,
   "metadata": {},
   "outputs": [],
   "source": [
    "%matplotlib inline"
   ]
  },
  {
   "cell_type": "markdown",
   "metadata": {},
   "source": [
    "Modules yang digunakan:\n",
    "\n",
    "1. matplotlib\n",
    "2. matplotlib.pyplot (module utama untuk melakukan plotting data)\n",
    "3. numpy"
   ]
  },
  {
   "cell_type": "code",
   "execution_count": 3,
   "metadata": {},
   "outputs": [],
   "source": [
    "import matplotlib\n",
    "import matplotlib.pyplot as plt\n",
    "import numpy as np"
   ]
  },
  {
   "cell_type": "markdown",
   "metadata": {},
   "source": [
    "- Mengecheck versi dari 2 module yang digunakan (matplotlib dan numpy)"
   ]
  },
  {
   "cell_type": "code",
   "execution_count": 4,
   "metadata": {},
   "outputs": [
    {
     "name": "stdout",
     "output_type": "stream",
     "text": [
      "3.2.2\n",
      "1.18.5\n"
     ]
    }
   ],
   "source": [
    "print(matplotlib.__version__)\n",
    "print(np.__version__)"
   ]
  },
  {
   "cell_type": "markdown",
   "metadata": {},
   "source": [
    "# Menyiapkan Sample Data\n",
    "\n",
    "- Menentukan nilai dari variabel. Variabel *mu* (mean) diberi nilai 100 dan variabel *sigma* (standard deviation) diberi 15\n",
    "- Membangun sample data yang berupa random number dengan memanggil *np.random.randn()* yang disertai dengan parameter *10000* yang akan menentukan jumlah data point yang akan dibentuk. Function tersebut akan membentuk normal distribution dengan nilai *mu* = 0.\n",
    "- Untuk mengatur sebaran data, kita dapat mengatur standard deviasinya. Setiap bilangan yang dihasilkan oleh function *np.random.randn()* akan dikalikan terlebih dahulu dengan nilai *sigma*.\n",
    "- Untuk membuat *mu* tidak bernilai 0, tetapi bernilai 100, kita dapat melakukan operasi penjumlahan nilai sigma * np.random.randn(10000) dengan nilai *mu* yaitu 100 . Kemudian, nilai tersebut akan ditampung oleh variabel *x*."
   ]
  },
  {
   "cell_type": "code",
   "execution_count": 8,
   "metadata": {},
   "outputs": [
    {
     "data": {
      "text/plain": [
       "array([ 88.9926435 ,  86.60420672, 118.27039981, ..., 106.08302738,\n",
       "       132.52579863,  88.46976567])"
      ]
     },
     "execution_count": 8,
     "metadata": {},
     "output_type": "execute_result"
    }
   ],
   "source": [
    "mu, sigma = 100, 15\n",
    "x = mu + sigma * np.random.randn(10000)\n",
    "x"
   ]
  },
  {
   "cell_type": "markdown",
   "metadata": {},
   "source": [
    "- Mengecheck jumlah data dengan memanggil *x.shape*"
   ]
  },
  {
   "cell_type": "code",
   "execution_count": null,
   "metadata": {},
   "outputs": [],
   "source": [
    "x.shape"
   ]
  },
  {
   "cell_type": "markdown",
   "metadata": {},
   "source": [
    "#Histogram dengan menggunakan pyplot Style\n",
    "\n",
    "Melakukan plotting sample data yang telah dibentuk dengan menggunakan pyplot style.\n",
    "\n",
    "- Memanggil *plt.hist()* dengan menyertakan 2 parameter wajib dan 2 parameter optional. \n",
    "    - Parameter yang wajib disertakan yaitu sample data *x* dan *bins* = 50.\n",
    "        - bins digunakan untuk menentukan jumlah klasifikasi data.  Nilai 50 pada bins memiliki arti bahwa dari 10000 data points yang kita miliki, akan dibentuk 50 kelompok data.\n",
    "    \n",
    "    - Parameter optional yang disertakan yaitu *facecolor* = 'g' dan *alpha* = 0.75.\n",
    "        - *facecolor* = 'g' akan merepresentasikan green\n",
    "        - *alpha* = 0.75 akan mengatur nilai transparasi menjadi 75%.\n",
    "- Menentukan xlabel, ylabel, dan judul dengan memanggil *plt.xlabel('Sumbu X')*, *plt.ylabel('Sumbu Y')*, dan *plt.title('Contoh Histogram')*\n",
    "- Menyertakan text di dalam plotting dengan memanggil *plt.text()* yang disertai oleh 3 parameter.\n",
    "    - Parameter pertama untuk menentukan koordinat x nya yaitu 45.\n",
    "    - Parameter kedua untuk menentukan koordinat y nya yaitu 500.\n",
    "    - Parameter ketiga untuk menentukan string yang ingin ditampilkan, yaitu '$\\mu=100,\\ \\sigma=15$'.\n",
    "        Note : karakter r pada parameter ketiga bersifat optional.\n",
    "- Memanggil method *plt.grid()* untuk menampilkan grid pada plotting."
   ]
  },
  {
   "cell_type": "code",
   "execution_count": 13,
   "metadata": {},
   "outputs": [
    {
     "data": {
      "image/png": "[encoded data removed]",
      "text/plain": [
       "<Figure size 432x288 with 1 Axes>"
      ]
     },
     "metadata": {
      "needs_background": "light"
     },
     "output_type": "display_data"
    }
   ],
   "source": [
    "plt.hist(x,\n",
    "        bins = 50,\n",
    "        facecolor = 'g',\n",
    "        alpha = 0.75)\n",
    "\n",
    "plt.xlabel('Sumbu X')\n",
    "plt.ylabel('Sumbu Y')\n",
    "plt.title('Contoh Histogram')\n",
    "\n",
    "plt.text(45, 500, r'$\\mu=100,\\ \\sigma=15$')\n",
    "plt.grid()\n",
    "\n",
    "plt.show()"
   ]
  },
  {
   "cell_type": "markdown",
   "metadata": {},
   "source": [
    "#Histogram dengan menggunakan OO Style\n",
    "\n",
    "Melakukan plotting sample data yang telah dibentuk dengan menggunakan OO style.\n",
    "\n",
    "- Membuat dua buah variabel yaitu *fig* untuk menampung figure dan *ax* untuk menampung axes dari hasil pemanggilan *plt.subplots()*.\n",
    "- Memanggil *ax.hist()* dengan menyertakan 2 parameter wajib dan 2 parameter optional. \n",
    "    - Parameter yang wajib disertakan yaitu sample data *x* dan *bins* = 50.\n",
    "        - bins digunakan untuk menentukan jumlah klasifikasi data.  Nilai 50 pada bins memiliki arti bahwa dari 10000 data points yang kita miliki, akan dibentuk 50 kelompok data.\n",
    "    \n",
    "    - Parameter optional yang disertakan yaitu *facecolor* = 'g' dan *alpha* = 0.75.\n",
    "        - *facecolor* = 'r' akan merepresentasikan green\n",
    "        - *alpha* = 0.25 akan mengatur nilai transparasi menjadi 25%.\n",
    "- Menentukan xlabel, ylabel, dan judul dengan memanggil *ax.set_xlabel('Sumbu X')*, *ax.set_ylabel('Sumbu Y')*, dan *ax.set_title('Contoh Histogram')*\n",
    "- Menyertakan text di dalam plotting dengan memanggil *ax.text()* yang disertai oleh 3 parameter.\n",
    "    - Parameter pertama untuk menentukan koordinat x nya yaitu 45.\n",
    "    - Parameter kedua untuk menentukan koordinat y nya yaitu 500.\n",
    "    - Parameter ketiga untuk menentukan string yang ingin ditampilkan, yaitu '$\\mu=100,\\ \\sigma=15$'.\n",
    "        Note : karakter r pada parameter ketiga bersifat optional.\n",
    "- Memanggil method *ax.grid()* untuk menampilkan grid pada plotting."
   ]
  },
  {
   "cell_type": "code",
   "execution_count": 16,
   "metadata": {},
   "outputs": [
    {
     "data": {
      "image/png": "[encoded data removed]",
      "text/plain": [
       "<Figure size 432x288 with 1 Axes>"
      ]
     },
     "metadata": {
      "needs_background": "light"
     },
     "output_type": "display_data"
    }
   ],
   "source": [
    "fig, ax = plt.subplots()\n",
    "\n",
    "ax.hist(x, \n",
    "        bins = 50, \n",
    "        facecolor = 'b', \n",
    "        alpha = 0.25)\n",
    "\n",
    "ax.set_xlabel('Sumbu X')\n",
    "ax.set_ylabel('Sumbu Y')\n",
    "ax.set_title('Contoh Histogram')\n",
    "\n",
    "ax.text(45, 500, '$\\mu=100,\\ \\sigma=15$')\n",
    "ax.grid()\n",
    "\n",
    "plt.show()"
   ]
  }
 ],
 "metadata": {
  "kernelspec": {
   "display_name": "Python 3",
   "language": "python",
   "name": "python3"
  },
  "language_info": {
   "codemirror_mode": {
    "name": "ipython",
    "version": 3
   },
   "file_extension": ".py",
   "mimetype": "text/x-python",
   "name": "python",
   "nbconvert_exporter": "python",
   "pygments_lexer": "ipython3",
   "version": "3.8.3"
  }
 },
 "nbformat": 4,
 "nbformat_minor": 4
}
