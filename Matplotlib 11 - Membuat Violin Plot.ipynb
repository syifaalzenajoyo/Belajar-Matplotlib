{
 "cells": [
  {
   "cell_type": "markdown",
   "metadata": {},
   "source": [
    "# 11 - Membuat Violin Plot "
   ]
  },
  {
   "cell_type": "markdown",
   "metadata": {},
   "source": [
    "## Import Modules"
   ]
  },
  {
   "cell_type": "markdown",
   "metadata": {},
   "source": [
    "Di bawah ini merupakan magic comment yang berfungsi untuk memastikan bahwa setiap output yang dihasilkan oleh matplotlib akan ditampilkan dalam halaman notebook yang sama."
   ]
  },
  {
   "cell_type": "code",
   "execution_count": 1,
   "metadata": {},
   "outputs": [],
   "source": [
    "%matplotlib inline"
   ]
  },
  {
   "cell_type": "markdown",
   "metadata": {},
   "source": [
    "Modules yang digunakan:\n",
    "1. matplotlib\n",
    "2. matplotlib.pyplot (module utama untuk melakukan plotting data)\n",
    "3. numpy "
   ]
  },
  {
   "cell_type": "code",
   "execution_count": 2,
   "metadata": {},
   "outputs": [],
   "source": [
    "import matplotlib\n",
    "import matplotlib.pyplot as plt\n",
    "import numpy as np"
   ]
  },
  {
   "cell_type": "markdown",
   "metadata": {},
   "source": [
    "- Mengecheck versi dari 2 module yang digunakan yaitu matplotlib dan numpy"
   ]
  },
  {
   "cell_type": "code",
   "execution_count": 3,
   "metadata": {},
   "outputs": [
    {
     "name": "stdout",
     "output_type": "stream",
     "text": [
      "3.2.2\n",
      "1.18.5\n"
     ]
    }
   ],
   "source": [
    "print(matplotlib.__version__)\n",
    "print(np.__version__)"
   ]
  },
  {
   "cell_type": "markdown",
   "metadata": {},
   "source": [
    "## Sample Data Set"
   ]
  },
  {
   "cell_type": "markdown",
   "metadata": {},
   "source": [
    "- Menentukan nilai pada `random.seed()` yaitu 2.\n",
    "- Memanggil `np.random.normal()` untuk menghasilkan sekumpulan bilangan random yang akan membentuk sebuah distrubusi normal. \n",
    "- Mentukan nilai parameter dari `np.random.normal()`\n",
    "    - `loc` = 100, untuk mendefinisikan titik tengah dari distribusi normal yaitu 100\n",
    "    - `scale` = 10, untuk mengetur nilai sebaran data atau standar deviasinya yaitu bernilai 10\n",
    "    - `size` = 200, untuk mengatur jumlah data point yang ingin dihasilkan yaitu sebanyak 200 data points."
   ]
  },
  {
   "cell_type": "code",
   "execution_count": 4,
   "metadata": {},
   "outputs": [
    {
     "data": {
      "text/plain": [
       "array([ 95.83242153,  99.43733173,  78.63803904, 116.40270808,\n",
       "        82.06564415,  91.58252634, 105.02881417,  87.54711913,\n",
       "        89.42047781,  90.90992385, 105.51454045, 122.92208013,\n",
       "       100.41539393,  88.82074555, 105.39058321,  94.038403  ,\n",
       "        99.80869503, 111.7500122 ,  92.52129051, 100.09025251,\n",
       "        91.21892107,  98.4356583 , 102.56570452,  90.11220951,\n",
       "        96.61178034,  97.63815969,  93.62344988,  88.12387714,\n",
       "        85.78782773,  98.46504804,  97.3094304 , 122.31366789,\n",
       "        75.65232423, 101.12726505, 103.70444537, 113.59633863,\n",
       "       105.01857207,  91.55786296, 100.00009761, 105.42352572,\n",
       "        96.86491803, 107.71011738,  81.31909345, 117.31184666,\n",
       "       114.67678011,  96.64322661, 106.1134078 , 100.47970592,\n",
       "        91.70864711, 100.87710218, 110.00365887,  96.18907482,\n",
       "        96.24330577,  99.25529237, 104.3349633 , 112.7837923 ,\n",
       "        93.65320695, 105.08396243, 102.16116006,  81.41387614,\n",
       "        95.80683518,  98.67671102,  99.6042976 , 103.26003433,\n",
       "        79.59676951, 100.46255523,  93.22324423,  85.60560973,\n",
       "       105.2429643 , 107.35279576,  93.46749732, 108.42456282,\n",
       "        96.18483518, 100.66489009,  89.01261053, 115.84487056,\n",
       "        73.40550544,  99.08547377, 106.95119605,  79.66533454,\n",
       "        98.10530735,  99.22781335, 108.24703005, 112.48212921,\n",
       "        95.96107731,  86.15481333, 113.67235424, 112.17885633,\n",
       "        95.37994652, 103.50888494, 103.81866234, 105.66275441,\n",
       "       102.04207979, 114.06696242,  82.62040496, 110.40823953,\n",
       "       103.8047197 ,  97.82864731, 111.73531498,  76.56396809,\n",
       "       111.61521491, 103.86078048,  88.66866726, 104.33092555,\n",
       "        96.95913561, 125.85294868, 118.35332723, 104.40689872,\n",
       "        92.80746159,  94.16585405,  96.74950372,  94.39765494,\n",
       "        90.97753932,  94.09027725,  97.23820508,  94.83116106,\n",
       "        93.0141005 ,  90.71108075, 125.50438236,  85.26826752,\n",
       "        89.78585269, 104.32395701,  96.7641993 , 104.23824708,\n",
       "       107.99179995, 112.62613663, 107.51964849,  90.06239017,\n",
       "       111.09143281,  82.35082272,  98.85578703,  95.01825806,\n",
       "        89.39200964, 105.91666521,  98.16743426, 110.19854729,\n",
       "        85.17534522, 108.46311892, 104.97940148, 101.26504175,\n",
       "        85.81189449,  97.48225882,  84.53325389,  79.17348064,\n",
       "       132.79745401, 109.7086132 , 117.92592852,  95.70986681,\n",
       "       106.9619798 , 106.97416272, 106.01515814, 100.03659491,\n",
       "        97.71752442,  79.30387737, 106.10144086, 104.234969  ,\n",
       "       111.17886733,  97.25757911, 117.41812188,  95.52499124,\n",
       "        87.44572782, 109.38163671,  95.3165374 ,  87.45279693,\n",
       "       101.24823646, 107.56502143, 102.41439629, 104.97425649,\n",
       "       141.08692624, 108.21120877, 115.31760316,  80.14154226,\n",
       "       103.65053516, 107.74082033,  96.35520908,  91.24020522,\n",
       "       103.96520159,  96.85382564,  94.06244417, 111.49500568,\n",
       "       113.35566168, 103.02629336,  95.45772145, 105.14370717,\n",
       "       108.29458431, 106.30621967,  85.4663565 ,  96.61982223,\n",
       "       103.59133332, 106.22220414, 109.60781945, 107.58370347,\n",
       "        88.65681517,  92.92579112,  87.78570835, 118.04476642,\n",
       "       101.80409807, 105.53164274, 110.33029066,  96.70997565])"
      ]
     },
     "execution_count": 4,
     "metadata": {},
     "output_type": "execute_result"
    }
   ],
   "source": [
    "np.random.seed(2)\n",
    "data = np.random.normal(loc=100, scale=10, size=200)\n",
    "data"
   ]
  },
  {
   "cell_type": "markdown",
   "metadata": {},
   "source": [
    "## Simple Violin Plot\n",
    "\n",
    "Garis yang dihasilkan pada violin plot merepresentasikan nilai terbesar dan nilai terkecil dari data yang kita miliki. Selain itu, nilai puncak yang dihasilkan akan menggambarkan nilai mean."
   ]
  },
  {
   "cell_type": "markdown",
   "metadata": {},
   "source": [
    "- Memanggil `plt.violinplot()` yang disertai oleh data set yang akan diplotting yaitu yang disimpan di variabel `data`\n",
    "- Memanggil `plt.title()` untuk menentukan judul pada plotting yaitu 'Simple Violin Plot'.\n",
    "- Memanggil `plt.xlabel()` untuk menentukan lebel pada sumbu-x yaitu 'Sumbu X'.\n",
    "- Memanggil `plt.Ylabel()` untuk menentukan lebel pada sumbu-y yaitu 'Sumbu y'."
   ]
  },
  {
   "cell_type": "code",
   "execution_count": 8,
   "metadata": {},
   "outputs": [
    {
     "data": {
      "image/png": "[encoded data removed]",
      "text/plain": [
       "<Figure size 432x288 with 1 Axes>"
      ]
     },
     "metadata": {
      "needs_background": "light"
     },
     "output_type": "display_data"
    }
   ],
   "source": [
    "plt.violinplot(data)\n",
    "\n",
    "plt.title('Simple Violin Plot')\n",
    "plt.xlabel('Sumbu X')\n",
    "plt.ylabel('Sumbu Y')\n",
    "\n",
    "plt.show()"
   ]
  },
  {
   "cell_type": "markdown",
   "metadata": {},
   "source": [
    "## Pengaturan pada Violin Plot"
   ]
  },
  {
   "cell_type": "markdown",
   "metadata": {},
   "source": [
    "- Memanggil `plt.violinplot()` yang disertai oleh beberapa parameter, yaitu:\n",
    "    - data set yang akan diplotting yaitu yang disimpan di variabel `data`\n",
    "    - `showextrema` untuk menampilkan garis tengah vertikal serta garis yang berada di atas dan di bawah yang akan mengindikasikan nilai minimum dan maksimum dari data set. Nilai default dari showextrema adalah True.\n",
    "    - `showmeans`untuk menampilkan garis tengah vertikal yang mengindikasikan nilai mean. Nilai default dari showextrema adalah False.\n",
    "    - `showmedians` untuk menampilkan garis vertikal yang mengindikasikan nilai median. Pada distribusi normal, nilai mean=median. Nilai default dari showextrema adalah False.\n",
    "    - `quantiles` = [0.25, 0.5, 0.75] untuk menampilkan kuartal 1 (25%), kuartal 2 (50%), dan kuartal 3 (75%). Nilai defaultnya adalah None.\n",
    "- Memanggil `plt.title()` untuk menentukan judul pada plotting yaitu 'Violin Plot'.\n",
    "- Memanggil `plt.xlabel()` untuk menentukan lebel pada sumbu-x yaitu 'Sumbu X'.\n",
    "- Memanggil `plt.Ylabel()` untuk menentukan lebel pada sumbu-y yaitu 'Sumbu y'."
   ]
  },
  {
   "cell_type": "code",
   "execution_count": 18,
   "metadata": {},
   "outputs": [
    {
     "data": {
      "image/png": "[encoded data removed]",
      "text/plain": [
       "<Figure size 432x288 with 1 Axes>"
      ]
     },
     "metadata": {
      "needs_background": "light"
     },
     "output_type": "display_data"
    }
   ],
   "source": [
    "plt.violinplot(data,\n",
    "               showextrema=True,\n",
    "               showmeans= True,\n",
    "               showmedians=True,\n",
    "               quantiles=[0.25, 0.5, 0.75])\n",
    "\n",
    "plt.title('Violin Plot')\n",
    "plt.xlabel('Sumbu X')\n",
    "plt.ylabel('Sumbu Y')\n",
    "\n",
    "plt.show()"
   ]
  },
  {
   "cell_type": "markdown",
   "metadata": {},
   "source": [
    "## Horisontal Violin Plot"
   ]
  },
  {
   "cell_type": "markdown",
   "metadata": {},
   "source": [
    "Untuk menampilkan violin plot secara horizontal, kita bisa menentukan nilai parameter dari `vert`nya sama dengan *False*. vert merepresentasikan vertikal."
   ]
  },
  {
   "cell_type": "code",
   "execution_count": 19,
   "metadata": {},
   "outputs": [
    {
     "data": {
      "image/png": "[encoded data removed]",
      "text/plain": [
       "<Figure size 432x288 with 1 Axes>"
      ]
     },
     "metadata": {
      "needs_background": "light"
     },
     "output_type": "display_data"
    }
   ],
   "source": [
    "plt.violinplot(data, vert=False)\n",
    "\n",
    "plt.title('Horisontal Violin Plot')\n",
    "plt.xlabel('Sumbu X')\n",
    "plt.ylabel('Sumbu Y')\n",
    "\n",
    "plt.show()"
   ]
  },
  {
   "cell_type": "markdown",
   "metadata": {},
   "source": [
    "## Multiple Violon Plot"
   ]
  },
  {
   "cell_type": "markdown",
   "metadata": {},
   "source": [
    "- Menentukan nilai pada `random.seed()` yaitu 10.\n",
    "- Menyiapkan 4 buah variabel yaitu \n",
    "    - `data1`yang terdiri dari sekumpulan bilang acak yang membentuk distribusi normal dengan  \n",
    "        - `loc` = 100, untuk mendefinisikan titik tengah dari distribusi normal yaitu 100\n",
    "        - `scale` = 10, untuk mengetur nilai sebaran data atau standar deviasinya yaitu bernilai 10\n",
    "        - `size` = 200, untuk mengatur jumlah data point yang ingin dihasilkan yaitu sebanyak 200 data points.\n",
    "    - `data2`yang terdiri dari sekumpulan bilang acak yang membentuk distribusi normal dengan  \n",
    "        - `loc` = 80, untuk mendefinisikan titik tengah dari distribusi normal yaitu 100\n",
    "        - `scale` = 30, untuk mengetur nilai sebaran data atau standar deviasinya yaitu bernilai 10\n",
    "        - `size` = 200, untuk mengatur jumlah data point yang ingin dihasilkan yaitu sebanyak 200 data points.\n",
    "    - `data3`yang terdiri dari sekumpulan bilang acak yang membentuk distribusi normal dengan  \n",
    "        - `loc` = 90, untuk mendefinisikan titik tengah dari distribusi normal yaitu 100\n",
    "        - `scale` = 20, untuk mengetur nilai sebaran data atau standar deviasinya yaitu bernilai 10\n",
    "        - `size` = 200, untuk mengatur jumlah data point yang ingin dihasilkan yaitu sebanyak 200 data points.\n",
    "    - `data4`yang terdiri dari sekumpulan bilang acak yang membentuk distribusi normal dengan  \n",
    "        - `loc` = 70, untuk mendefinisikan titik tengah dari distribusi normal yaitu 100\n",
    "        - `scale` = 25, untuk mengetur nilai sebaran data atau standar deviasinya yaitu bernilai 10\n",
    "        - `size` = 200, untuk mengatur jumlah data point yang ingin dihasilkan yaitu sebanyak 200 data points.\n",
    "        \n",
    "- Membuat list data yang akan menampung data1, data2, data3, dan data4\n",
    "- Meneentukan labels berupa list yang berisi 'Data 1', 'Data 2', 'Data 3', 'Data 4'"
   ]
  },
  {
   "cell_type": "code",
   "execution_count": 20,
   "metadata": {},
   "outputs": [],
   "source": [
    "np.random.seed(10)\n",
    "data1 = np.random.normal(100, 10, 200)\n",
    "data2 = np.random.normal(80, 30, 200)\n",
    "data3 = np.random.normal(90, 20, 200)\n",
    "data4 = np.random.normal(70, 25, 200)\n",
    "\n",
    "data = [data1, data2, data3, data4]"
   ]
  },
  {
   "cell_type": "markdown",
   "metadata": {},
   "source": [
    "- Memanggil `plt.violinplot()` yang disertai oleh data set yang akan diplotting yaitu yang disimpan di list `data` dan menentukan labes yang disimpan di list `labels`\n",
    "- Memanggil `plt.title()` untuk menentukan judul pada plotting yaitu 'Multiple Violin Plot'.\n",
    "- Memanggil `plt.xlabel()` untuk menentukan lebel pada sumbu-x yaitu 'Sumbu X'.\n",
    "- Memanggil `plt.Ylabel()` untuk menentukan lebel pada sumbu-y yaitu 'Sumbu y'."
   ]
  },
  {
   "cell_type": "code",
   "execution_count": 21,
   "metadata": {},
   "outputs": [
    {
     "data": {
      "image/png": "[encoded data removed]",
      "text/plain": [
       "<Figure size 432x288 with 1 Axes>"
      ]
     },
     "metadata": {
      "needs_background": "light"
     },
     "output_type": "display_data"
    }
   ],
   "source": [
    "plt.violinplot(data)\n",
    "\n",
    "plt.title('Multiple Violin Plot')\n",
    "plt.xlabel('Sumbu X')\n",
    "plt.ylabel('Sumbu Y')\n",
    "\n",
    "plt.show()"
   ]
  }
 ],
 "metadata": {
  "kernelspec": {
   "display_name": "Python 3",
   "language": "python",
   "name": "python3"
  },
  "language_info": {
   "codemirror_mode": {
    "name": "ipython",
    "version": 3
   },
   "file_extension": ".py",
   "mimetype": "text/x-python",
   "name": "python",
   "nbconvert_exporter": "python",
   "pygments_lexer": "ipython3",
   "version": "3.8.3"
  }
 },
 "nbformat": 4,
 "nbformat_minor": 4
}
